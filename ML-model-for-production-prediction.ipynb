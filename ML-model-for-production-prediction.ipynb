{
 "cells": [
  {
   "cell_type": "markdown",
   "metadata": {},
   "source": [
    "# **Machine Learning model for gas production prediction**\n",
    "### **Author:** M. Sc. Alberto M. Palacio Bastos - Data Scientist\n",
    "### **Objective:** Build a model to estimate gas production.\n",
    "### **Dataset:** http://huy302.github.io/interview_dataset.csv"
   ]
  },
  {
   "cell_type": "markdown",
   "metadata": {},
   "source": [
    "\n",
    "### **Features description:**\n",
    "\n",
    "- **treatment company**: The treatment company who provides treatment service.\n",
    "- **azimuth**: Well drilling direction.\n",
    "- **md (ft)**: Measure depth.\n",
    "- **tvd (ft)**: True vertical depth.\n",
    "- **date on production**: First production date.\n",
    "- **operator**: The well operator who performs drilling service.\n",
    "- **footage lateral length**: Horizontal well section.\n",
    "- **well spacing**: Distance to the closest nearby well.\n",
    "- **porpoise deviation**: How much max (in ft.) a well deviated from its horizontal.\n",
    "- **porpoise count**: How many times the deviations (porpoises) occurred.\n",
    "- **shale footage**: How much shale (in ft) encountered in a horizontal well.\n",
    "- **acoustic impedance**: The impedance of a reservoir rock (ft/s * g/cc).\n",
    "- **log permeability**: The property of rocks that is an indication of the ability for fluids (gas or liquid) to flow through rocks\n",
    "- **porosity**: The percentage of void space in a rock. It is defined as the ratio of the volume of the voids or pore space divided by the total volume. It is written as either a decimal fraction between 0 and 1 or as a percentage.\n",
    "- **poisson ratio**: Measures the ratio of lateral strain to axial strain at linearly elastic region.\n",
    "- **water saturation**: The ratio of water volume to pore volume.\n",
    "- **toc**: Total Organic Carbon, indicates the organic richness (hydrocarbon generative potential) of a reservoir rock.\n",
    "- **vcl**: The amount of clay minerals in a reservoir rock.\n",
    "- **p-velocity**: The velocity of P-waves (compressional waves) through a reservoir rock (ft/s).\n",
    "- **s-velocity**: The velocity of S-waves (shear waves) through a reservoir rock (ft/s).\n",
    "- **youngs modulus**: The ratio of the applied stress to the fractional extension (or shortening) of the reservoir rock parallel to the tension (or compression) (giga pascals).\n",
    "- **isip**: When the pumps are quickly stopped, and the fluids stop moving, these friction pressures disappear and the resulting pressure is called the instantaneous shut-in pressure, ISIP.\n",
    "- **breakdown pressure**: The pressure at which a hydraulic fracture is created/initiated/induced.\n",
    "- **pump rate**: The volume of liquid that travels through the pump in a given time. A hydraulic fracture is formed by pumping fluid into a wellbore at a rate sufficient to increase pressure at the target depth, to exceed that of the fracture gradient (pressure gradient) of the rock.\n",
    "- **total number of stages**: Total stages used to fracture the horizontal section of the well.\n",
    "- **proppant volume**: The amount of proppant in pounds used in the completion of a well (lbs).\n",
    "- **proppant fluid ratio**: The ratio of proppant volume/fluid volume (lbs/gallon).\n",
    "- **production**: The 12 months cumulative gas production (mmcf)."
   ]
  }
 ],
 "metadata": {
  "kernelspec": {
   "display_name": "Python 3",
   "language": "python",
   "name": "python3"
  },
  "language_info": {
   "codemirror_mode": {
    "name": "ipython",
    "version": 3
   },
   "file_extension": ".py",
   "mimetype": "text/x-python",
   "name": "python",
   "nbconvert_exporter": "python",
   "pygments_lexer": "ipython3",
   "version": "3.12.0"
  }
 },
 "nbformat": 4,
 "nbformat_minor": 2
}
