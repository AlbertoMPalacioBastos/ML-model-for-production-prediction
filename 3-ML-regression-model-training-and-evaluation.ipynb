{
 "cells": [
  {
   "cell_type": "markdown",
   "metadata": {},
   "source": [
    "# **Machine Learning model for gas production prediction**\n",
    "# **Part 3: Machine Learning Regression Model Training and Evaluation**\n",
    "### **Author:** M. Sc. Alberto M. Palacio Bastos - Data Scientist\n",
    "### **Objective:** Build a model to estimate gas production.\n",
    "### **Dataset:** http://huy302.github.io/interview_dataset.csv"
   ]
  },
  {
   "cell_type": "code",
   "execution_count": null,
   "metadata": {},
   "outputs": [],
   "source": []
  }
 ],
 "metadata": {
  "language_info": {
   "name": "python"
  }
 },
 "nbformat": 4,
 "nbformat_minor": 2
}
